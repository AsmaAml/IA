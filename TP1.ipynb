{
 "cells": [
  {
   "cell_type": "code",
   "execution_count": 5,
   "id": "05593e1c-19a6-4cec-836e-9bc1eadff8be",
   "metadata": {},
   "outputs": [
    {
     "name": "stdin",
     "output_type": "stream",
     "text": [
      "entree N1 12\n",
      "entree N2 12\n",
      "entree N3 12\n"
     ]
    },
    {
     "name": "stdout",
     "output_type": "stream",
     "text": [
      "assez bien\n"
     ]
    }
   ],
   "source": [
    "def calculer(N1,N2,N3) :\n",
    "    S=N1+N2+N3\n",
    "    M=S/3\n",
    "    if M>=16 :\n",
    "        print(\"Tres bien\")\n",
    "    elif M>=14 :\n",
    "         print(\"bien\")\n",
    "    elif M>=12 :\n",
    "         print(\"assez bien\")\n",
    "    elif M>=10 :\n",
    "         print(\"passable\")\n",
    "    else :\n",
    "        print(\"insuffisant\")\n",
    "\n",
    "N1=float(input(\"entree N1\"))\n",
    "N2=float(input(\"entree N2\"))\n",
    "N3=float(input(\"entree N3\"))\n",
    "calculer(N1,N2,N3)\n",
    "            "
   ]
  },
  {
   "cell_type": "code",
   "execution_count": 2,
   "id": "fd5284ee-2b05-45cf-b5a7-499fde25b45a",
   "metadata": {},
   "outputs": [
    {
     "name": "stdin",
     "output_type": "stream",
     "text": [
      "entrer un nombre 2\n",
      "entrer un nombre 1\n",
      "entrer un nombre -1\n"
     ]
    },
    {
     "name": "stdout",
     "output_type": "stream",
     "text": [
      "la solution est X1=  -1.75 X2=  -0.25\n"
     ]
    }
   ],
   "source": [
    "import math\n",
    "def mat(a,b,c) :\n",
    "    delta=b*b-4*a*c \n",
    "    if delta>0 :\n",
    "        print(\"la solution est X1= \",-b-math.sqrt(delta)/(2*a),\"X2= \",-b+math.sqrt(delta)/(2*a))\n",
    "    elif delta==0 :\n",
    "        print(\"la solution est X= \",-b/(2*a))\n",
    "    else :\n",
    "        print(\"pas de solution\")\n",
    "        \n",
    "a=int(input(\"entrer un nombre\"))\n",
    "b=int(input(\"entrer un nombre\"))\n",
    "c=int(input(\"entrer un nombre\"))\n",
    "mat(a,b,c)"
   ]
  },
  {
   "cell_type": "code",
   "execution_count": 4,
   "id": "40c8cfce-7847-468e-ad49-5088fd3269e8",
   "metadata": {},
   "outputs": [
    {
     "name": "stdin",
     "output_type": "stream",
     "text": [
      "entrer la temperature 56263\n"
     ]
    },
    {
     "name": "stdout",
     "output_type": "stream",
     "text": [
      "15 heures 37 minutes 43 seconds\n"
     ]
    }
   ],
   "source": [
    "def heure(T) :\n",
    "    H=int(T/3600)\n",
    "    M=int((T%3600)/60)\n",
    "    S=(T%3600)%60\n",
    "    print(H,\"heures\",M,\"minutes\",S,\"seconds\")\n",
    "\n",
    "T=int(input(\"entrer la temperature\"))\n",
    "heure(T)"
   ]
  },
  {
   "cell_type": "code",
   "execution_count": 7,
   "id": "268f820c-58e8-434d-a6e1-3eeda7946b87",
   "metadata": {},
   "outputs": [
    {
     "name": "stdin",
     "output_type": "stream",
     "text": [
      "sairir ton age 21\n",
      "sairir ton sexe est qe que H ou F ou Autre H\n"
     ]
    },
    {
     "name": "stdout",
     "output_type": "stream",
     "text": [
      "paient l'impot\n"
     ]
    }
   ],
   "source": [
    "def impot(A,S) :\n",
    "    if A>20 and S=='H' :\n",
    "        print(\"paient l'impot\")\n",
    "    elif A>=18 and A<=35 and S=='F' :\n",
    "        print(\"paient l'impot\")\n",
    "    else :\n",
    "        print(\"pas d'impot\")\n",
    "\n",
    "A=int(input(\"sairir ton age\"))\n",
    "S=input(\"sairir ton sexe est qe que H ou F ou Autre\")\n",
    "impot(A,S)"
   ]
  },
  {
   "cell_type": "code",
   "execution_count": 9,
   "id": "1ad40006-0b0b-4cef-b438-a11804225dd4",
   "metadata": {},
   "outputs": [
    {
     "name": "stdin",
     "output_type": "stream",
     "text": [
      "sairir le premier entier : 1\n",
      "sairir le deuxieme entier : 0\n",
      "sairir l'un des orperation suivant: + ou - ou * ou / :  /\n"
     ]
    },
    {
     "name": "stdout",
     "output_type": "stream",
     "text": [
      "NULL\n"
     ]
    }
   ],
   "source": [
    "def ope(N1,N2,O) :\n",
    "    if O=='+' :\n",
    "        print(\"le resultat est: \",N1+N2)\n",
    "    elif O=='*' :\n",
    "        print(\"le resultat est: \",N1*N2)\n",
    "    elif O=='-' :\n",
    "        print(\"le resultat est: \",N1-N2)\n",
    "    else :\n",
    "        if N2==0 :\n",
    "            print(\"NULL\")\n",
    "        else :\n",
    "           return N1//N2  \n",
    "    \n",
    "\n",
    "N1=int(input(\"sairir le premier entier :\"))\n",
    "N2=int(input(\"sairir le deuxieme entier :\"))\n",
    "O=input(\"sairir l'un des orperation suivant: + ou - ou * ou / : \")\n",
    "ope(N1,N2,O)"
   ]
  },
  {
   "cell_type": "code",
   "execution_count": 12,
   "id": "34dbacee-398d-4f82-9f8f-0dc1b80bb140",
   "metadata": {},
   "outputs": [
    {
     "name": "stdin",
     "output_type": "stream",
     "text": [
      "sairir un entier 1\n"
     ]
    },
    {
     "name": "stdout",
     "output_type": "stream",
     "text": [
      "1\n",
      "2\n",
      "3\n",
      "4\n",
      "5\n",
      "6\n",
      "7\n",
      "8\n",
      "9\n",
      "10\n"
     ]
    }
   ],
   "source": [
    "def bouc(N) :\n",
    "    for i in range(N,N+10,1) :\n",
    "        print(i)\n",
    "\n",
    "N=int(input(\"sairir un entier\"))\n",
    "bouc(N)"
   ]
  },
  {
   "cell_type": "code",
   "execution_count": 18,
   "id": "9f851d98-6d8b-4365-89ba-e33905c65e4c",
   "metadata": {},
   "outputs": [
    {
     "name": "stdin",
     "output_type": "stream",
     "text": [
      "sairir un entier 1\n"
     ]
    },
    {
     "name": "stdout",
     "output_type": "stream",
     "text": [
      "2\n",
      "3\n",
      "4\n",
      "5\n",
      "6\n",
      "7\n",
      "8\n",
      "9\n",
      "10\n",
      "11\n"
     ]
    }
   ],
   "source": [
    "def bouc1(N) :\n",
    "    i=N\n",
    "    while(i<N+10):\n",
    "        i+=1\n",
    "        print(i)\n",
    "\n",
    "N=int(input(\"sairir un entier\"))\n",
    "bouc1(N)"
   ]
  },
  {
   "cell_type": "code",
   "execution_count": 1,
   "id": "384fec20-5832-4756-ae5c-027964aa1f51",
   "metadata": {},
   "outputs": [
    {
     "name": "stdin",
     "output_type": "stream",
     "text": [
      "saisir un entier 3\n"
     ]
    },
    {
     "data": {
      "text/plain": [
       "14"
      ]
     },
     "execution_count": 1,
     "metadata": {},
     "output_type": "execute_result"
    }
   ],
   "source": [
    "def affi(n) :\n",
    "    S=0\n",
    "    for i in range (1,n+1) :\n",
    "        S+=i**2\n",
    "    return S\n",
    "n=int(input(\"saisir un entier\"))\n",
    "if n==0 :\n",
    "    print(\"SVP inserer in entier non null\")\n",
    "affi(n)\n",
    "        "
   ]
  },
  {
   "cell_type": "code",
   "execution_count": 5,
   "id": "9a11b9b2-3bd5-4948-ab65-8265a68c8d9a",
   "metadata": {},
   "outputs": [
    {
     "name": "stdin",
     "output_type": "stream",
     "text": [
      "entrer un entier 1\n"
     ]
    },
    {
     "data": {
      "text/plain": [
       "1"
      ]
     },
     "execution_count": 5,
     "metadata": {},
     "output_type": "execute_result"
    }
   ],
   "source": [
    "def cal(n) :\n",
    "    S=0\n",
    "    for i in range (0,n,1) :\n",
    "        S+=10**i\n",
    "    return S\n",
    "n=int(input(\"entrer un entier\"))\n",
    "cal(n)"
   ]
  },
  {
   "cell_type": "code",
   "execution_count": 10,
   "id": "75d5bbb0-0809-4754-b78a-b8bbfbdef107",
   "metadata": {},
   "outputs": [
    {
     "name": "stdin",
     "output_type": "stream",
     "text": [
      "entrer un entier 1\n"
     ]
    },
    {
     "name": "stdout",
     "output_type": "stream",
     "text": [
      "n'est pas parfait\n"
     ]
    }
   ],
   "source": [
    "def div(n) :\n",
    "    S=0\n",
    "    for i in range (1,n) :\n",
    "        if n>1 and n%i==0 :\n",
    "            S+=i \n",
    "    return S\n",
    "n=int(input(\"entrer un entier\"))\n",
    "if div(n) :\n",
    "    print(\"est parfait\")\n",
    "else :\n",
    "    print(\"n'est pas parfait\")\n",
    "    "
   ]
  },
  {
   "cell_type": "code",
   "execution_count": 38,
   "id": "4f3cda9b-7d1a-443e-b839-d67e7ddafcfa",
   "metadata": {},
   "outputs": [
    {
     "name": "stdout",
     "output_type": "stream",
     "text": [
      "a*b= 19\n"
     ]
    }
   ],
   "source": [
    "P=0\n",
    "a=[2,5,3]\n",
    "b=[7,1,0]\n",
    "for i in range (0,2) :\n",
    "    P+=a[i]*b[i]\n",
    "print(\"a*b=\",P)"
   ]
  },
  {
   "cell_type": "code",
   "execution_count": 23,
   "id": "3d567dd8-947f-46a0-8207-e930bc687b9b",
   "metadata": {},
   "outputs": [
    {
     "name": "stdout",
     "output_type": "stream",
     "text": [
      "[1, 2, 12, 45, 50, 70]\n"
     ]
    }
   ],
   "source": [
    "T=[1,2,12,45,50,70]\n",
    "esttrier = True \n",
    "\n",
    "for i in range(len(T) - 1) :\n",
    "    if T[i] > T[i+1] :\n",
    "        esttrier= False\n",
    "\n",
    "if esttrier :\n",
    "    print(T)\n",
    "else:\n",
    "    print(\"le tableau est trie\")\n",
    "        "
   ]
  },
  {
   "cell_type": "code",
   "execution_count": null,
   "id": "6d1c5457-d604-4fae-9407-ad915245e6f8",
   "metadata": {},
   "outputs": [],
   "source": []
  },
  {
   "cell_type": "code",
   "execution_count": null,
   "id": "083c201a-10d8-4233-8cb3-e33baa1ed2f3",
   "metadata": {},
   "outputs": [],
   "source": []
  }
 ],
 "metadata": {
  "kernelspec": {
   "display_name": "Python 3 (ipykernel)",
   "language": "python",
   "name": "python3"
  },
  "language_info": {
   "codemirror_mode": {
    "name": "ipython",
    "version": 3
   },
   "file_extension": ".py",
   "mimetype": "text/x-python",
   "name": "python",
   "nbconvert_exporter": "python",
   "pygments_lexer": "ipython3",
   "version": "3.11.7"
  }
 },
 "nbformat": 4,
 "nbformat_minor": 5
}
